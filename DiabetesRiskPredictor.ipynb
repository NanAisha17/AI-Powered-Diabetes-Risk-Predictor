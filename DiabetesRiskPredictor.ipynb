{
 "cells": [
  {
   "cell_type": "code",
   "execution_count": 2,
   "id": "809aee48-c87d-4958-a2af-77cea6cb15c9",
   "metadata": {},
   "outputs": [],
   "source": [
    "import pandas as pd"
   ]
  },
  {
   "cell_type": "code",
   "execution_count": 3,
   "id": "fe3182b3-ec42-49a3-9d19-1dcc851c54c3",
   "metadata": {},
   "outputs": [],
   "source": [
    "import xlwings as xw"
   ]
  },
  {
   "cell_type": "code",
   "execution_count": 4,
   "id": "6f586a77-6809-404d-a382-ee1e1ae342eb",
   "metadata": {},
   "outputs": [],
   "source": [
    "import datetime"
   ]
  },
  {
   "cell_type": "code",
   "execution_count": 5,
   "id": "3bda672e-8fb7-4d10-920d-c40e0259d7ab",
   "metadata": {},
   "outputs": [],
   "source": [
    "def evaluate_diabetes_risk(bmi, hba1c):\n",
    "    \"\"\"Custom risk classification based on BMI and HbA1c\"\"\"\n",
    "    if (18.5 <= bmi <= 24.9) or (hba1c < 5.7):\n",
    "        return \"LOW RISK\"\n",
    "    elif (25.0 <= bmi <= 29.9) or (5.7 <= hba1c <= 6.4):\n",
    "        return \"MODERATE RISK\"\n",
    "    elif (bmi >= 30.0) or (6.3 <= hba1c <= 7.0):\n",
    "        return \"HIGH RISK\"\n",
    "    else:\n",
    "        return \"VERY HIGH RISK\""
   ]
  },
  {
   "cell_type": "code",
   "execution_count": 6,
   "id": "f5c3a7fe-bb10-4de8-8436-f7d53db88536",
   "metadata": {},
   "outputs": [],
   "source": [
    "def main():\n",
    "    try:\n",
    "        wb = xw.books.active\n",
    "        sheet = wb.sheets['PREDICTIONS']\n",
    "        user_bmi = sheet.range('F9').value  \n",
    "        user_hba1c = sheet.range('F10').value\n",
    "        risk_level = evaluate_diabetes_risk(user_bmi, user_hba1c)\n",
    "        sheet.range('F12').value = risk_level\n",
    "        wb.save()\n",
    "\n",
    "        excel = xw.apps.active.api\n",
    "        excel.MsgBox(f\"Diabetes Risk Level: {risk_level}\", 0, \"Risk Assessment Result\")\n",
    "        \n",
    "        with open(r\"C:\\Users\\owner\\OneDrive\\Desktop\\risk_log.txt\", \"a\") as f:\n",
    "         f.write(f\"{datetime.datetime.now()}: Success - BMI: {user_bmi}, HbA1c: {user_hba1c}, Risk: {risk_level}\\n\")\n",
    "    \n",
    "    except Exception as e:\n",
    "        with open(r\"C:\\Users\\owner\\OneDrive\\Desktop\\risk_log.txt\", \"a\") as f:\n",
    "            f.write(f\"{datetime.datetime.now()}: Error - {str(e)}\\n\")"
   ]
  },
  {
   "cell_type": "code",
   "execution_count": 9,
   "id": "fdf32024-2999-4db9-8c52-83b9a2a81a00",
   "metadata": {},
   "outputs": [],
   "source": [
    "main()"
   ]
  },
  {
   "cell_type": "code",
   "execution_count": null,
   "id": "26c8fdae-6dcf-4688-b6fb-5a2f4836b6dd",
   "metadata": {},
   "outputs": [],
   "source": []
  }
 ],
 "metadata": {
  "kernelspec": {
   "display_name": "Python [conda env:base] *",
   "language": "python",
   "name": "conda-base-py"
  },
  "language_info": {
   "codemirror_mode": {
    "name": "ipython",
    "version": 3
   },
   "file_extension": ".py",
   "mimetype": "text/x-python",
   "name": "python",
   "nbconvert_exporter": "python",
   "pygments_lexer": "ipython3",
   "version": "3.12.7"
  }
 },
 "nbformat": 4,
 "nbformat_minor": 5
}
